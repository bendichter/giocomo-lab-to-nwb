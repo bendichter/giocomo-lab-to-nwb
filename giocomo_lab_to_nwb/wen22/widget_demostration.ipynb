{
 "cells": [
  {
   "cell_type": "code",
   "execution_count": 1,
   "metadata": {},
   "outputs": [
    {
     "data": {
      "text/plain": [
       "[PosixPath('/home/heberto/nwb_stub/N2_200203_johncontrasttrack9_train1_g0.nwb'),\n",
       " PosixPath('/home/heberto/nwb_stub/N2_200202_johncontrasttrack9_train1_g0.nwb'),\n",
       " PosixPath('/home/heberto/nwb_stub/N2_200204_johncontrasttrack9_train1_g0.nwb'),\n",
       " PosixPath('/home/heberto/nwb_stub/N2_200205_johncontrasttrack9_train1_g0.nwb'),\n",
       " PosixPath('/home/heberto/nwb_stub/N2_200201_johncontrasttrack9_train1_g0.nwb')]"
      ]
     },
     "execution_count": 1,
     "metadata": {},
     "output_type": "execute_result"
    }
   ],
   "source": [
    "from pathlib import Path\n",
    "import random\n",
    "\n",
    "from pynwb import NWBHDF5IO\n",
    "from nwbwidgets import nwb2widget\n",
    "\n",
    "nwb_directory_path = Path(\"/home/heberto/nwb_stub\")\n",
    "nwb_file_path_list = list(nwb_directory_path.iterdir())\n",
    "nwb_file_path_list"
   ]
  },
  {
   "cell_type": "code",
   "execution_count": 2,
   "metadata": {},
   "outputs": [
    {
     "name": "stdout",
     "output_type": "stream",
     "text": [
      "N2_200201_johncontrasttrack9_train1_g0.nwb\n"
     ]
    },
    {
     "data": {
      "application/vnd.jupyter.widget-view+json": {
       "model_id": "fca8ab224ebc40559e71b9963f89b7c5",
       "version_major": 2,
       "version_minor": 0
      },
      "text/plain": [
       "VBox(children=(HBox(children=(Label(value='session_description:', layout=Layout(max_height='40px', max_width='…"
      ]
     },
     "metadata": {},
     "output_type": "display_data"
    }
   ],
   "source": [
    "nwb_file_path = nwb_file_path_list[4]\n",
    "print(f\"{nwb_file_path.name}\")\n",
    "io = NWBHDF5IO(str(nwb_file_path), mode='r', load_namespaces=True)\n",
    "nwb = io.read()\n",
    "\n",
    "nwb2widget(nwb)"
   ]
  },
  {
   "cell_type": "code",
   "execution_count": null,
   "metadata": {},
   "outputs": [],
   "source": []
  }
 ],
 "metadata": {
  "interpreter": {
   "hash": "350068c5585228b11b69dea6bd63a34403b386136705186930c1dc588a7fe30d"
  },
  "kernelspec": {
   "display_name": "Python 3 (ipykernel)",
   "language": "python",
   "name": "python3"
  },
  "language_info": {
   "codemirror_mode": {
    "name": "ipython",
    "version": 3
   },
   "file_extension": ".py",
   "mimetype": "text/x-python",
   "name": "python",
   "nbconvert_exporter": "python",
   "pygments_lexer": "ipython3",
   "version": "3.9.12"
  }
 },
 "nbformat": 4,
 "nbformat_minor": 4
}
